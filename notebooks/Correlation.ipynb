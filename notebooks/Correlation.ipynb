{
 "cells": [
  {
   "cell_type": "code",
   "execution_count": 92,
   "metadata": {
    "colab": {
     "base_uri": "https://localhost:8080/"
    },
    "executionInfo": {
     "elapsed": 10042,
     "status": "ok",
     "timestamp": 1724936044191,
     "user": {
      "displayName": "Kerod Sisay",
      "userId": "05294912566229381440"
     },
     "user_tz": -180
    },
    "id": "UqQ0jCvCugj3",
    "outputId": "608903e6-49ff-4408-d9c9-69df6b5a97b6"
   },
   "outputs": [],
   "source": [
    "import yfinance as yf\n",
    "import pandas as pd\n",
    "import numpy as np\n",
    "from textblob import TextBlob"
   ]
  },
  {
   "cell_type": "code",
   "execution_count": 94,
   "metadata": {},
   "outputs": [
    {
     "name": "stderr",
     "output_type": "stream",
     "text": [
      "[*********************100%***********************]  1 of 1 completed\n"
     ]
    }
   ],
   "source": [
    "# Define the ticker and the time period\n",
    "ticker = 'MSFT' #replace with your ticker data\n",
    "start_date = '2020-01-01'\n",
    "end_date = '2023-01-01'\n",
    "\n",
    "# Load the stock data\n",
    "nivida_data = yf.download(ticker, start=start_date, end=end_date)\n"
   ]
  },
  {
   "cell_type": "code",
   "execution_count": 95,
   "metadata": {
    "executionInfo": {
     "elapsed": 562,
     "status": "ok",
     "timestamp": 1724936097901,
     "user": {
      "displayName": "Kerod Sisay",
      "userId": "05294912566229381440"
     },
     "user_tz": -180
    },
    "id": "Wz27SnukMe9l"
   },
   "outputs": [],
   "source": [
    "# Set the random seed for reproducibility\n",
    "np.random.seed(0)\n",
    "\n",
    "# Create a DataFrame with dates from the data\n",
    "dates = nivida_data.index\n",
    "text_data = pd.DataFrame(dates, columns=['Date'])\n"
   ]
  },
  {
   "cell_type": "code",
   "execution_count": 96,
   "metadata": {
    "colab": {
     "base_uri": "https://localhost:8080/",
     "height": 206
    },
    "executionInfo": {
     "elapsed": 620,
     "status": "ok",
     "timestamp": 1724936100381,
     "user": {
      "displayName": "Kerod Sisay",
      "userId": "05294912566229381440"
     },
     "user_tz": -180
    },
    "id": "KcBLyJqNMiH-",
    "outputId": "1a7135d4-6e08-45d9-ed32-8fe65858186e"
   },
   "outputs": [
    {
     "data": {
      "text/html": [
       "<div>\n",
       "<style scoped>\n",
       "    .dataframe tbody tr th:only-of-type {\n",
       "        vertical-align: middle;\n",
       "    }\n",
       "\n",
       "    .dataframe tbody tr th {\n",
       "        vertical-align: top;\n",
       "    }\n",
       "\n",
       "    .dataframe thead th {\n",
       "        text-align: right;\n",
       "    }\n",
       "</style>\n",
       "<table border=\"1\" class=\"dataframe\">\n",
       "  <thead>\n",
       "    <tr style=\"text-align: right;\">\n",
       "      <th></th>\n",
       "      <th>Date</th>\n",
       "      <th>Headline</th>\n",
       "    </tr>\n",
       "  </thead>\n",
       "  <tbody>\n",
       "    <tr>\n",
       "      <th>0</th>\n",
       "      <td>2020-01-02</td>\n",
       "      <td>MSFT's revenue beats expectations</td>\n",
       "    </tr>\n",
       "    <tr>\n",
       "      <th>1</th>\n",
       "      <td>2020-01-03</td>\n",
       "      <td>MSFT invests in renewable energy</td>\n",
       "    </tr>\n",
       "    <tr>\n",
       "      <th>2</th>\n",
       "      <td>2020-01-06</td>\n",
       "      <td>MSFT hits record high</td>\n",
       "    </tr>\n",
       "    <tr>\n",
       "      <th>3</th>\n",
       "      <td>2020-01-07</td>\n",
       "      <td>MSFT reports earnings that exceed forecasts</td>\n",
       "    </tr>\n",
       "    <tr>\n",
       "      <th>4</th>\n",
       "      <td>2020-01-08</td>\n",
       "      <td>MSFT faces challenges from new competitors</td>\n",
       "    </tr>\n",
       "  </tbody>\n",
       "</table>\n",
       "</div>"
      ],
      "text/plain": [
       "        Date                                     Headline\n",
       "0 2020-01-02            MSFT's revenue beats expectations\n",
       "1 2020-01-03             MSFT invests in renewable energy\n",
       "2 2020-01-06                        MSFT hits record high\n",
       "3 2020-01-07  MSFT reports earnings that exceed forecasts\n",
       "4 2020-01-08   MSFT faces challenges from new competitors"
      ]
     },
     "execution_count": 96,
     "metadata": {},
     "output_type": "execute_result"
    }
   ],
   "source": [
    "# Generate random headlines\n",
    "headline_samples = [\n",
    "    \"MSFT hits record high\",\n",
    "    \"Concerns over MSFT's future growth\",\n",
    "    \"MSFT to unveil new product next month\",\n",
    "    \"MSFT reports earnings that exceed forecasts\",\n",
    "    \"Market downturn affects MSFT\",\n",
    "    \"MSFT invests in renewable energy\",\n",
    "    \"New MSFT CEO announced\",\n",
    "    \"MSFT faces regulatory scrutiny\",\n",
    "    \"MSFT rumored to acquire a tech startup\",\n",
    "    \"MSFT's market share grows\",\n",
    "    \"MSFT introduces groundbreaking technology\",\n",
    "    \"MSFT faces challenges from new competitors\",\n",
    "    \"MSFT's revenue beats expectations\",\n",
    "    \"MSFT to expand in international markets\",\n",
    "    \"MSFT announces new environmental initiative\"\n",
    "]\n",
    "\n",
    "# Assign a random headline to each date\n",
    "text_data['Headline'] = np.random.choice(headline_samples, size=len(text_data))\n",
    "\n",
    "# Display the first few rows of the updated DataFrame\n",
    "text_data.head()"
   ]
  },
  {
   "cell_type": "code",
   "execution_count": 97,
   "metadata": {
    "executionInfo": {
     "elapsed": 752,
     "status": "ok",
     "timestamp": 1724936105098,
     "user": {
      "displayName": "Kerod Sisay",
      "userId": "05294912566229381440"
     },
     "user_tz": -180
    },
    "id": "tgaTa2DhxNHx"
   },
   "outputs": [],
   "source": [
    "def calculate_sentiment(text):\n",
    "    return TextBlob(text).sentiment.polarity\n",
    "\n",
    "# Applying the sentiment analysis function to your headlines\n",
    "text_data['Sentiment'] = text_data['Headline'].apply(calculate_sentiment)"
   ]
  },
  {
   "cell_type": "code",
   "execution_count": 98,
   "metadata": {
    "colab": {
     "base_uri": "https://localhost:8080/",
     "height": 237
    },
    "executionInfo": {
     "elapsed": 518,
     "status": "ok",
     "timestamp": 1724936131201,
     "user": {
      "displayName": "Kerod Sisay",
      "userId": "05294912566229381440"
     },
     "user_tz": -180
    },
    "id": "doJy8hpGxFAh",
    "outputId": "750e7e01-9a46-4bac-e387-5464f58fa35e"
   },
   "outputs": [
    {
     "data": {
      "text/html": [
       "<div>\n",
       "<style scoped>\n",
       "    .dataframe tbody tr th:only-of-type {\n",
       "        vertical-align: middle;\n",
       "    }\n",
       "\n",
       "    .dataframe tbody tr th {\n",
       "        vertical-align: top;\n",
       "    }\n",
       "\n",
       "    .dataframe thead th {\n",
       "        text-align: right;\n",
       "    }\n",
       "</style>\n",
       "<table border=\"1\" class=\"dataframe\">\n",
       "  <thead>\n",
       "    <tr style=\"text-align: right;\">\n",
       "      <th></th>\n",
       "      <th>Headline</th>\n",
       "      <th>Sentiment</th>\n",
       "      <th>MSFT</th>\n",
       "    </tr>\n",
       "    <tr>\n",
       "      <th>Date</th>\n",
       "      <th></th>\n",
       "      <th></th>\n",
       "      <th></th>\n",
       "    </tr>\n",
       "  </thead>\n",
       "  <tbody>\n",
       "    <tr>\n",
       "      <th>2020-01-02</th>\n",
       "      <td>MSFT's revenue beats expectations</td>\n",
       "      <td>0.000000</td>\n",
       "      <td>160.619995</td>\n",
       "    </tr>\n",
       "    <tr>\n",
       "      <th>2020-01-03</th>\n",
       "      <td>MSFT invests in renewable energy</td>\n",
       "      <td>0.000000</td>\n",
       "      <td>158.619995</td>\n",
       "    </tr>\n",
       "    <tr>\n",
       "      <th>2020-01-06</th>\n",
       "      <td>MSFT hits record high</td>\n",
       "      <td>0.160000</td>\n",
       "      <td>159.029999</td>\n",
       "    </tr>\n",
       "    <tr>\n",
       "      <th>2020-01-07</th>\n",
       "      <td>MSFT reports earnings that exceed forecasts</td>\n",
       "      <td>0.000000</td>\n",
       "      <td>157.580002</td>\n",
       "    </tr>\n",
       "    <tr>\n",
       "      <th>2020-01-08</th>\n",
       "      <td>MSFT faces challenges from new competitors</td>\n",
       "      <td>0.136364</td>\n",
       "      <td>160.089996</td>\n",
       "    </tr>\n",
       "  </tbody>\n",
       "</table>\n",
       "</div>"
      ],
      "text/plain": [
       "                                               Headline  Sentiment        MSFT\n",
       "Date                                                                          \n",
       "2020-01-02            MSFT's revenue beats expectations   0.000000  160.619995\n",
       "2020-01-03             MSFT invests in renewable energy   0.000000  158.619995\n",
       "2020-01-06                        MSFT hits record high   0.160000  159.029999\n",
       "2020-01-07  MSFT reports earnings that exceed forecasts   0.000000  157.580002\n",
       "2020-01-08   MSFT faces challenges from new competitors   0.136364  160.089996"
      ]
     },
     "execution_count": 98,
     "metadata": {},
     "output_type": "execute_result"
    }
   ],
   "source": [
    "# Aligning sentiment scores with the stock closing prices on the same date\n",
    "combined_data = text_data.set_index('Date').join(nivida_data['Close'])\n",
    "combined_data.head()"
   ]
  },
  {
   "cell_type": "code",
   "execution_count": 100,
   "metadata": {
    "executionInfo": {
     "elapsed": 507,
     "status": "ok",
     "timestamp": 1724936140291,
     "user": {
      "displayName": "Kerod Sisay",
      "userId": "05294912566229381440"
     },
     "user_tz": -180
    },
    "id": "Te1_UY7jxGU6"
   },
   "outputs": [
    {
     "name": "stdout",
     "output_type": "stream",
     "text": [
      "Correlation between sentiment and daily stock returns: 0.0830482160295739\n"
     ]
    }
   ],
   "source": [
    "combined_data['Daily Returns'] = combined_data['MSFT'].pct_change()\n",
    "\n",
    "correlation = combined_data['Sentiment'].corr(combined_data['Daily Returns'])\n",
    "print(\"Correlation between sentiment and daily stock returns:\", correlation)"
   ]
  },
  {
   "cell_type": "code",
   "execution_count": 101,
   "metadata": {
    "colab": {
     "base_uri": "https://localhost:8080/"
    },
    "executionInfo": {
     "elapsed": 555,
     "status": "ok",
     "timestamp": 1724936147157,
     "user": {
      "displayName": "Kerod Sisay",
      "userId": "05294912566229381440"
     },
     "user_tz": -180
    },
    "id": "dwDPQNIQykQq",
    "outputId": "6de33156-749c-4340-ceed-5f28a024951f"
   },
   "outputs": [
    {
     "name": "stdout",
     "output_type": "stream",
     "text": [
      "Correlation between sentiment and closing: -0.009411829026128388\n"
     ]
    }
   ],
   "source": [
    "correlation = combined_data['Sentiment'].corr(combined_data['MSFT'])\n",
    "print(\"Correlation between sentiment and closing:\", correlation)"
   ]
  },
  {
   "cell_type": "markdown",
   "metadata": {},
   "source": [
    "Based on the correlation results provided, we can analyze the relationship between sentiment and stock movements (daily returns and closing prices) for each of the six companies—AAPL, NVDA, AMZN, GOOG, META, TSLA, and MSFT. The results presents that varying degrees of responsiveness to sentiment. \n",
    "-\tMicrosoft (MSFT) shows the strongest positive correlation with daily stock returns (0.0830), suggesting that positive sentiment has a moderate influence on its stock performance. \n",
    "-\tApple (AAPL) follows with a positive correlation of 0.0616, indicating that positive news also slightly impacts its returns. \n",
    "-\tNVIDIA (NVDA) displays a similar positive correlation (0.06298), reflecting a modest connection between sentiment and stock returns. \n",
    "-\tAmazon (AMZN) and Google (GOOG) both show weak positive correlations (0.0480 and 0.0473, respectively), implying a minimal influence of sentiment on their stock returns. \n",
    "-\tTesla (TSLA) has an even weaker positive correlation (0.0187), indicating that sentiment has little effect on its stock performance. \n",
    "-\tMeta (META) shows a slight negative correlation with daily returns (-0.0234), and Tesla's closing prices also show a weak negative correlation (-0.0158), suggesting that negative sentiment may have a minor inverse effect on their performance. \n",
    "Overall, Microsoft stands out with the strongest positive sentiment-stock return relationship, while companies like Tesla and Meta show minimal or negative correlation.\n"
   ]
  },
  {
   "cell_type": "markdown",
   "metadata": {},
   "source": []
  }
 ],
 "metadata": {
  "colab": {
   "authorship_tag": "ABX9TyNsfinTDPiNiEyKHHDxhniN",
   "provenance": []
  },
  "kernelspec": {
   "display_name": "myvenv",
   "language": "python",
   "name": "python3"
  },
  "language_info": {
   "codemirror_mode": {
    "name": "ipython",
    "version": 3
   },
   "file_extension": ".py",
   "mimetype": "text/x-python",
   "name": "python",
   "nbconvert_exporter": "python",
   "pygments_lexer": "ipython3",
   "version": "3.12.6"
  }
 },
 "nbformat": 4,
 "nbformat_minor": 0
}
